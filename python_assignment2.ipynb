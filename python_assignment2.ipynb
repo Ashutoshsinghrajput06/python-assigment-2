{
  "nbformat": 4,
  "nbformat_minor": 0,
  "metadata": {
    "colab": {
      "provenance": []
    },
    "kernelspec": {
      "name": "python3",
      "display_name": "Python 3"
    },
    "language_info": {
      "name": "python"
    }
  },
  "cells": [
    {
      "cell_type": "markdown",
      "source": [
        "1.Data strustue is a way of organising and storing data so that it can be acesseed and manipulated efficently. The important of data structure because allowing user to acess, modify the data."
      ],
      "metadata": {
        "id": "uDmvHBTE17cx"
      }
    },
    {
      "cell_type": "markdown",
      "source": [
        "2.Mutable- the element are change inside the data is called mutable.(list,set)\n",
        "eg- l=[1,2,3]\n",
        "    l[0]=3\n",
        "  Immutable- the element are can not be change inside the data is called immutable.(tuple,dict)\n",
        "  eg-l=(1,2,3)\n",
        "     l[0]=!3  "
      ],
      "metadata": {
        "id": "ayv4npxY3BOW"
      }
    },
    {
      "cell_type": "markdown",
      "source": [
        "3. list is mutabale but tuple is immutable."
      ],
      "metadata": {
        "id": "fg3taIQx4jye"
      }
    },
    {
      "cell_type": "markdown",
      "source": [
        "4. Dictionary are store the object in form of keys and vlues."
      ],
      "metadata": {
        "id": "yKtUY3SV4yOU"
      }
    },
    {
      "cell_type": "markdown",
      "source": [
        "5. A set is in pyton are unordered collection of unique element but in list are ordered and duplicte elements are allows."
      ],
      "metadata": {
        "id": "JShHtCg15NsR"
      }
    },
    {
      "cell_type": "markdown",
      "source": [
        "6.A string in python is a sequence of character which used to represnt for text.\n",
        "  A list is sequence of item which store all dta types like int, float, char, bool."
      ],
      "metadata": {
        "id": "3TxmSqVu5oqk"
      }
    },
    {
      "cell_type": "markdown",
      "source": [
        "7.Because of one tupple are made we do not change the element inside the date . we do not change and noting to remove because of it is immutable."
      ],
      "metadata": {
        "id": "XxRWiFtf6d1D"
      }
    },
    {
      "cell_type": "markdown",
      "source": [
        "8.A hash table is a data structure that stores key-value pairs, enabling efficient data retrieval. It utilizes a hash function to compute an index for each key, which determines the position of the corresponding value in an underlying array."
      ],
      "metadata": {
        "id": "oH7_UDe47IMQ"
      }
    },
    {
      "cell_type": "markdown",
      "source": [],
      "metadata": {
        "id": "1NuqS_e47oBt"
      }
    },
    {
      "cell_type": "markdown",
      "source": [
        "9. Yes"
      ],
      "metadata": {
        "id": "eVntRqLF7pR3"
      }
    },
    {
      "cell_type": "markdown",
      "source": [
        "10.String in python are immutable because of serval desgin and performance consideration. Any opertaion that appears to modify a string actually create new string object."
      ],
      "metadata": {
        "id": "f9CmHBgM7008"
      }
    },
    {
      "cell_type": "markdown",
      "source": [
        "11.List perform faster for ordered opertaion like sorting , while dictionary perform fasters for lookup opertaion . also list can be changed but dictionary are not changed ."
      ],
      "metadata": {
        "id": "0t9R72CZ8zuu"
      }
    },
    {
      "cell_type": "markdown",
      "source": [
        "12.If you have data that's not meant to be changed in the first place — such as critical information or records like empoley id card , atm card , adhar card, pan card,"
      ],
      "metadata": {
        "id": "9KwkXuJb9mj7"
      }
    },
    {
      "cell_type": "markdown",
      "source": [
        "13.Sets are desgined in python to store unique elements . when duplicate values are added to set it automatically discared ensuring that the set contains only distnict element."
      ],
      "metadata": {
        "id": "iZWUqcNS-BAi"
      }
    },
    {
      "cell_type": "markdown",
      "source": [
        "14.In opertaion for the dictionary test on keys. The key of the dictionary is a unique value as well as set, and the execution time is about the same as the set.Dictionary valuescan be duplicate like a list."
      ],
      "metadata": {
        "id": "4EC_AqDY-xG2"
      }
    },
    {
      "cell_type": "markdown",
      "source": [
        "15.We do not modify the element of tuple because of tuple is immutable it menas that we can't change the element values."
      ],
      "metadata": {
        "id": "510W2495qoWU"
      }
    },
    {
      "cell_type": "markdown",
      "source": [
        "16. Nested dictionary means in simple word is dictionary inside dictionary.  Nested dictionaries in Python are used to organize complex, hierarchical data where dictionaries are nested within other dictionaries"
      ],
      "metadata": {
        "id": "LpmukNZ_q-f1"
      }
    },
    {
      "cell_type": "markdown",
      "source": [
        "17.The time complexity of accessing an element in a dictionary\n",
        "also known as a hash table or associative array is typically O(1), meaning it takes constant time regardless of the dictionary's size."
      ],
      "metadata": {
        "id": "IaEw0XYawkyd"
      }
    },
    {
      "cell_type": "markdown",
      "source": [
        "18.For ordered collections and sequence operations, such as maintaining a stack or queue, lists are more suitable."
      ],
      "metadata": {
        "id": "ezW_BXzYw2je"
      }
    },
    {
      "cell_type": "markdown",
      "source": [
        "19.A dictionary is termed an unordered collection of objects because dictionaries do not maintain any inherent order of the items based on when they were adde"
      ],
      "metadata": {
        "id": "Ry4K68Q_xFp0"
      }
    },
    {
      "cell_type": "markdown",
      "source": [
        "20.In terms of data retrieval, a dictionary excels at fast lookups by key, while a list is better suited for sequential access by index"
      ],
      "metadata": {
        "id": "i3-iaYNExV3t"
      }
    },
    {
      "cell_type": "code",
      "execution_count": 1,
      "metadata": {
        "colab": {
          "base_uri": "https://localhost:8080/"
        },
        "id": "Vsp9l4l9SVWj",
        "outputId": "d3028b54-67d9-4064-958c-04014ed71b18"
      },
      "outputs": [
        {
          "output_type": "stream",
          "name": "stdout",
          "text": [
            "ashutosh\n"
          ]
        }
      ],
      "source": [
        "s=\"ashutosh\" #1\n",
        "print(s)"
      ]
    },
    {
      "cell_type": "code",
      "source": [
        "s=\"Hello World\"#2\n",
        "len(s)"
      ],
      "metadata": {
        "colab": {
          "base_uri": "https://localhost:8080/"
        },
        "id": "rsYJc8fISd1W",
        "outputId": "b136ab88-b2a3-4722-c570-7c81a1cca2bc"
      },
      "execution_count": 2,
      "outputs": [
        {
          "output_type": "execute_result",
          "data": {
            "text/plain": [
              "11"
            ]
          },
          "metadata": {},
          "execution_count": 2
        }
      ]
    },
    {
      "cell_type": "code",
      "source": [
        "a=\"python programming\" #3\n",
        "a[0:3]"
      ],
      "metadata": {
        "colab": {
          "base_uri": "https://localhost:8080/",
          "height": 36
        },
        "id": "Ewda_HeiSznt",
        "outputId": "78505011-3f8f-4af7-eb44-b849153fd6a0"
      },
      "execution_count": 4,
      "outputs": [
        {
          "output_type": "execute_result",
          "data": {
            "text/plain": [
              "'pyt'"
            ],
            "application/vnd.google.colaboratory.intrinsic+json": {
              "type": "string"
            }
          },
          "metadata": {},
          "execution_count": 4
        }
      ]
    },
    {
      "cell_type": "code",
      "source": [
        "s=\"hello\" #4\n",
        "s.upper()"
      ],
      "metadata": {
        "colab": {
          "base_uri": "https://localhost:8080/",
          "height": 36
        },
        "id": "Q34AWbYHTZsa",
        "outputId": "8b4892a0-bdd9-478b-adbb-6226c0448293"
      },
      "execution_count": 5,
      "outputs": [
        {
          "output_type": "execute_result",
          "data": {
            "text/plain": [
              "'HELLO'"
            ],
            "application/vnd.google.colaboratory.intrinsic+json": {
              "type": "string"
            }
          },
          "metadata": {},
          "execution_count": 5
        }
      ]
    },
    {
      "cell_type": "code",
      "source": [
        "s=\"i like apple\"             #5\n",
        "s.replace(\"apple\",\"orange\")"
      ],
      "metadata": {
        "colab": {
          "base_uri": "https://localhost:8080/",
          "height": 36
        },
        "id": "WtFEY-fVUN-Q",
        "outputId": "f593035e-444e-465e-99b6-c2092250482e"
      },
      "execution_count": 6,
      "outputs": [
        {
          "output_type": "execute_result",
          "data": {
            "text/plain": [
              "'i like orange'"
            ],
            "application/vnd.google.colaboratory.intrinsic+json": {
              "type": "string"
            }
          },
          "metadata": {},
          "execution_count": 6
        }
      ]
    },
    {
      "cell_type": "code",
      "source": [
        "i=[1,2,3,4,5] #6\n",
        "print(i)\n"
      ],
      "metadata": {
        "colab": {
          "base_uri": "https://localhost:8080/"
        },
        "id": "Ox24d_IOUih4",
        "outputId": "3e6cfcc9-d565-4f21-8188-63b5521d17d1"
      },
      "execution_count": 11,
      "outputs": [
        {
          "output_type": "stream",
          "name": "stdout",
          "text": [
            "[1, 2, 3, 4, 5]\n"
          ]
        }
      ]
    },
    {
      "cell_type": "code",
      "source": [
        "l=[1,2,3,4]    #7\n",
        "l.append(10)\n",
        "l   # or print(l)"
      ],
      "metadata": {
        "colab": {
          "base_uri": "https://localhost:8080/"
        },
        "id": "2yUIqJqhVOgh",
        "outputId": "06899da5-39c4-4a7c-e47b-1dcb96a9d80b"
      },
      "execution_count": 18,
      "outputs": [
        {
          "output_type": "execute_result",
          "data": {
            "text/plain": [
              "[1, 2, 3, 4, 10]"
            ]
          },
          "metadata": {},
          "execution_count": 18
        }
      ]
    },
    {
      "cell_type": "code",
      "source": [
        "l=[1,2,3,4,5] #8\n",
        "l.remove(3)\n",
        "l"
      ],
      "metadata": {
        "colab": {
          "base_uri": "https://localhost:8080/"
        },
        "id": "wcPMSCc1XP_z",
        "outputId": "7e8b29ee-d2e7-41ad-d84d-f9a0c40cfd78"
      },
      "execution_count": 20,
      "outputs": [
        {
          "output_type": "execute_result",
          "data": {
            "text/plain": [
              "[1, 2, 4, 5]"
            ]
          },
          "metadata": {},
          "execution_count": 20
        }
      ]
    },
    {
      "cell_type": "code",
      "source": [
        "l=[\"a\",\"b\",\"c\",\"d\"] #9\n",
        "l[1]"
      ],
      "metadata": {
        "colab": {
          "base_uri": "https://localhost:8080/",
          "height": 36
        },
        "id": "4Hd4L5obZol8",
        "outputId": "b1845853-6a6a-4b15-f092-f9c276561866"
      },
      "execution_count": 22,
      "outputs": [
        {
          "output_type": "execute_result",
          "data": {
            "text/plain": [
              "'b'"
            ],
            "application/vnd.google.colaboratory.intrinsic+json": {
              "type": "string"
            }
          },
          "metadata": {},
          "execution_count": 22
        }
      ]
    },
    {
      "cell_type": "code",
      "source": [
        "l=[10,20,30,40,50] #10\n",
        "l.reverse()\n",
        "l"
      ],
      "metadata": {
        "colab": {
          "base_uri": "https://localhost:8080/"
        },
        "id": "Yc_7WqUsaKxn",
        "outputId": "0769ba66-6c0f-49b1-fa20-90858847e46e"
      },
      "execution_count": 23,
      "outputs": [
        {
          "output_type": "execute_result",
          "data": {
            "text/plain": [
              "[50, 40, 30, 20, 10]"
            ]
          },
          "metadata": {},
          "execution_count": 23
        }
      ]
    },
    {
      "cell_type": "code",
      "source": [
        "y=(100,200,300) #11\n",
        "print(y)\n",
        "type(y)"
      ],
      "metadata": {
        "colab": {
          "base_uri": "https://localhost:8080/"
        },
        "id": "cKlpWaVjboUk",
        "outputId": "7bc9a75e-df4d-452c-af26-970b53f23d23"
      },
      "execution_count": 26,
      "outputs": [
        {
          "output_type": "stream",
          "name": "stdout",
          "text": [
            "(100, 200, 300)\n"
          ]
        },
        {
          "output_type": "execute_result",
          "data": {
            "text/plain": [
              "tuple"
            ]
          },
          "metadata": {},
          "execution_count": 26
        }
      ]
    },
    {
      "cell_type": "code",
      "source": [
        "t=(\"red\",\"green\",\"blue\",\"yellow\") #12\n",
        "t[1]"
      ],
      "metadata": {
        "colab": {
          "base_uri": "https://localhost:8080/",
          "height": 36
        },
        "id": "NE30SaHpdMFY",
        "outputId": "09230a68-6a62-4e9a-fa79-0e2cf407c6c7"
      },
      "execution_count": 31,
      "outputs": [
        {
          "output_type": "execute_result",
          "data": {
            "text/plain": [
              "'green'"
            ],
            "application/vnd.google.colaboratory.intrinsic+json": {
              "type": "string"
            }
          },
          "metadata": {},
          "execution_count": 31
        }
      ]
    },
    {
      "cell_type": "code",
      "source": [
        "t[2]"
      ],
      "metadata": {
        "colab": {
          "base_uri": "https://localhost:8080/",
          "height": 36
        },
        "id": "K-a7Xqxrdw8W",
        "outputId": "dfc0b221-5006-4f39-e2af-114a558078ba"
      },
      "execution_count": 32,
      "outputs": [
        {
          "output_type": "execute_result",
          "data": {
            "text/plain": [
              "'blue'"
            ],
            "application/vnd.google.colaboratory.intrinsic+json": {
              "type": "string"
            }
          },
          "metadata": {},
          "execution_count": 32
        }
      ]
    },
    {
      "cell_type": "code",
      "source": [
        "t[3]"
      ],
      "metadata": {
        "colab": {
          "base_uri": "https://localhost:8080/",
          "height": 36
        },
        "id": "b4L7HURqeJ4_",
        "outputId": "ea760fca-d2e7-4f9f-a6dd-2806c2fc79e3"
      },
      "execution_count": 33,
      "outputs": [
        {
          "output_type": "execute_result",
          "data": {
            "text/plain": [
              "'yellow'"
            ],
            "application/vnd.google.colaboratory.intrinsic+json": {
              "type": "string"
            }
          },
          "metadata": {},
          "execution_count": 33
        }
      ]
    },
    {
      "cell_type": "code",
      "source": [
        "v=(10,20,5,15) #13\n",
        "min(v)"
      ],
      "metadata": {
        "colab": {
          "base_uri": "https://localhost:8080/"
        },
        "id": "ZwEp0qYnyaKb",
        "outputId": "51518ed4-5a81-478f-98c8-a08daa466690"
      },
      "execution_count": 2,
      "outputs": [
        {
          "output_type": "execute_result",
          "data": {
            "text/plain": [
              "5"
            ]
          },
          "metadata": {},
          "execution_count": 2
        }
      ]
    },
    {
      "cell_type": "code",
      "source": [
        "tuple=(\"dog\",\"cat\",\"rabbit\") #14\n",
        "tuple.index(\"cat\")"
      ],
      "metadata": {
        "colab": {
          "base_uri": "https://localhost:8080/"
        },
        "id": "bsWi2YZKeRb2",
        "outputId": "f0a039b8-3788-4bd2-8dea-afb151619491"
      },
      "execution_count": 1,
      "outputs": [
        {
          "output_type": "execute_result",
          "data": {
            "text/plain": [
              "1"
            ]
          },
          "metadata": {},
          "execution_count": 1
        }
      ]
    },
    {
      "cell_type": "code",
      "source": [
        "t=(\"apple\",\"mango\",\"grapes\") #15\n",
        "'kiwi' in t\n",
        ""
      ],
      "metadata": {
        "colab": {
          "base_uri": "https://localhost:8080/"
        },
        "id": "dGjeA4pbJcN3",
        "outputId": "2427095a-c4fd-46d0-f924-cead88af928c"
      },
      "execution_count": 8,
      "outputs": [
        {
          "output_type": "execute_result",
          "data": {
            "text/plain": [
              "False"
            ]
          },
          "metadata": {},
          "execution_count": 8
        }
      ]
    },
    {
      "cell_type": "code",
      "source": [
        "s={\"a\",\"b\",\"c\"} #16\n",
        "print(s)"
      ],
      "metadata": {
        "colab": {
          "base_uri": "https://localhost:8080/"
        },
        "id": "ee7BWY_TJ5hP",
        "outputId": "78d8e5ce-a6e0-46d9-87ca-20edb80b095d"
      },
      "execution_count": 9,
      "outputs": [
        {
          "output_type": "stream",
          "name": "stdout",
          "text": [
            "{'a', 'b', 'c'}\n"
          ]
        }
      ]
    },
    {
      "cell_type": "code",
      "source": [
        "s={1,2,3,4,5} #!7\n",
        "s.clear()\n",
        "print(s)"
      ],
      "metadata": {
        "colab": {
          "base_uri": "https://localhost:8080/"
        },
        "id": "BcIhJBayLgYL",
        "outputId": "b80601a7-0734-44a4-f936-be9bfcca017a"
      },
      "execution_count": 12,
      "outputs": [
        {
          "output_type": "stream",
          "name": "stdout",
          "text": [
            "set()\n"
          ]
        }
      ]
    },
    {
      "cell_type": "code",
      "source": [
        "s={1,2,3,4} #18\n",
        "s.remove(4)\n",
        "print(s)\n",
        ""
      ],
      "metadata": {
        "colab": {
          "base_uri": "https://localhost:8080/"
        },
        "id": "kjxXxhMqL9e4",
        "outputId": "12754d50-7548-48cd-cd29-041ba6327fe4"
      },
      "execution_count": 13,
      "outputs": [
        {
          "output_type": "stream",
          "name": "stdout",
          "text": [
            "{1, 2, 3}\n"
          ]
        }
      ]
    },
    {
      "cell_type": "code",
      "source": [
        "s={1,2,3} #19\n",
        "r={3,4,5}\n",
        "s.union (r)"
      ],
      "metadata": {
        "colab": {
          "base_uri": "https://localhost:8080/"
        },
        "id": "vgs7zLzQMYF9",
        "outputId": "c4dcf650-abe4-4076-d3af-df4ab975904b"
      },
      "execution_count": 21,
      "outputs": [
        {
          "output_type": "execute_result",
          "data": {
            "text/plain": [
              "{1, 2, 3, 4, 5}"
            ]
          },
          "metadata": {},
          "execution_count": 21
        }
      ]
    },
    {
      "cell_type": "code",
      "source": [
        "r={2,3,4} #20\n",
        "s & r"
      ],
      "metadata": {
        "colab": {
          "base_uri": "https://localhost:8080/"
        },
        "id": "4YFvXj_wM08p",
        "outputId": "43c5d713-9014-4e62-b241-96a4953d47f5"
      },
      "execution_count": 20,
      "outputs": [
        {
          "output_type": "execute_result",
          "data": {
            "text/plain": [
              "{2, 3}"
            ]
          },
          "metadata": {},
          "execution_count": 20
        }
      ]
    },
    {
      "cell_type": "code",
      "source": [
        "d={\"name\":\"ashu\" , \"age\":25 , \"city\":\"delhi\" } #21\n",
        "d.keys()"
      ],
      "metadata": {
        "colab": {
          "base_uri": "https://localhost:8080/"
        },
        "id": "YiYcya5-OUqF",
        "outputId": "80136001-7601-4e9e-9bd5-14ed16dbdc45"
      },
      "execution_count": 9,
      "outputs": [
        {
          "output_type": "execute_result",
          "data": {
            "text/plain": [
              "dict_keys(['name', 'age', 'city'])"
            ]
          },
          "metadata": {},
          "execution_count": 9
        }
      ]
    },
    {
      "cell_type": "code",
      "source": [
        "y={\"name\":\"john\", \"age\":22,} #22\n",
        "y[\"country\"]=\"USA\"\n",
        "y"
      ],
      "metadata": {
        "colab": {
          "base_uri": "https://localhost:8080/"
        },
        "id": "G1rlVmbFxWmm",
        "outputId": "b8cc475c-d1c5-4f76-f93b-8dc1317cae63"
      },
      "execution_count": 12,
      "outputs": [
        {
          "output_type": "execute_result",
          "data": {
            "text/plain": [
              "{'name': 'john', 'age': 22, 'country': 'USA'}"
            ]
          },
          "metadata": {},
          "execution_count": 12
        }
      ]
    },
    {
      "cell_type": "code",
      "source": [
        "x={\"name\":\"alice\",\"age\":30} #23\n",
        "x[\"name\"]"
      ],
      "metadata": {
        "colab": {
          "base_uri": "https://localhost:8080/",
          "height": 36
        },
        "id": "HFEEMdmoy8bc",
        "outputId": "d542aa21-a549-4b36-ba4d-c56ade83d3d1"
      },
      "execution_count": 13,
      "outputs": [
        {
          "output_type": "execute_result",
          "data": {
            "text/plain": [
              "'alice'"
            ],
            "application/vnd.google.colaboratory.intrinsic+json": {
              "type": "string"
            }
          },
          "metadata": {},
          "execution_count": 13
        }
      ]
    },
    {
      "cell_type": "code",
      "source": [
        "z={\"name\":\"bob\",\"age\":22,\"city\":\"paris\"} #24\n",
        "z.pop(\"age\")\n",
        "z"
      ],
      "metadata": {
        "colab": {
          "base_uri": "https://localhost:8080/"
        },
        "id": "UrGOdgJZzcaO",
        "outputId": "6ec7efa2-c43f-41e6-89db-e72cc150c461"
      },
      "execution_count": 14,
      "outputs": [
        {
          "output_type": "execute_result",
          "data": {
            "text/plain": [
              "{'name': 'bob', 'city': 'paris'}"
            ]
          },
          "metadata": {},
          "execution_count": 14
        }
      ]
    },
    {
      "cell_type": "code",
      "source": [
        "w={\"name\":\"alice\",\"city\":\"paris\"} #25\n",
        "\"city\" in w"
      ],
      "metadata": {
        "colab": {
          "base_uri": "https://localhost:8080/"
        },
        "id": "cG3ZJxoHz4tX",
        "outputId": "b68cb174-5d55-4347-a217-4c53e7270db9"
      },
      "execution_count": 5,
      "outputs": [
        {
          "output_type": "execute_result",
          "data": {
            "text/plain": [
              "True"
            ]
          },
          "metadata": {},
          "execution_count": 5
        }
      ]
    },
    {
      "cell_type": "code",
      "source": [
        "l=[\"ashu\",2.2,2,\"singh\"] #26\n",
        "print(l)\n",
        "w=(\"ashu\",2.2,2,\"singh\")\n",
        "print(w)\n",
        "v={\"ashu\":\"singh\",\"age\":22,\"city\":\"delhi\"}\n",
        "print(v)\n"
      ],
      "metadata": {
        "colab": {
          "base_uri": "https://localhost:8080/"
        },
        "id": "So-j0JjL0x-1",
        "outputId": "67c59dee-461c-41ad-ca7e-4e5a7b8d2e92"
      },
      "execution_count": 6,
      "outputs": [
        {
          "output_type": "stream",
          "name": "stdout",
          "text": [
            "['ashu', 2.2, 2, 'singh']\n",
            "('ashu', 2.2, 2, 'singh')\n",
            "{'ashu': 'singh', 'age': 22, 'city': 'delhi'}\n"
          ]
        }
      ]
    },
    {
      "cell_type": "code",
      "source": [
        "import random #27\n",
        "\n",
        "# Create a list of 5 random numbers between 1 and 100\n",
        "random_numbers = [random.randint(1, 100) for _ in range(5)]\n",
        "\n",
        "# Sort the list in ascending order\n",
        "random_numbers.sort()\n",
        "\n",
        "# Print the sorted list\n",
        "print(random_numbers)"
      ],
      "metadata": {
        "colab": {
          "base_uri": "https://localhost:8080/"
        },
        "id": "yPbSqj-c0dBc",
        "outputId": "a162bbc6-1d36-40b4-b709-3c1c377ea637"
      },
      "execution_count": 2,
      "outputs": [
        {
          "output_type": "stream",
          "name": "stdout",
          "text": [
            "[8, 27, 43, 72, 92]\n"
          ]
        }
      ]
    },
    {
      "cell_type": "code",
      "source": [
        "x=[\"singh\",\"ashu\",\"yuvraj\",\"hindu\" ] #28\n",
        "x[3]"
      ],
      "metadata": {
        "colab": {
          "base_uri": "https://localhost:8080/",
          "height": 36
        },
        "id": "GeQ9I1Bl0Pzq",
        "outputId": "800516ea-2db7-4ec6-a42f-749f0a240679"
      },
      "execution_count": 7,
      "outputs": [
        {
          "output_type": "execute_result",
          "data": {
            "text/plain": [
              "'hindu'"
            ],
            "application/vnd.google.colaboratory.intrinsic+json": {
              "type": "string"
            }
          },
          "metadata": {},
          "execution_count": 7
        }
      ]
    },
    {
      "cell_type": "code",
      "source": [
        "\n",
        "d={\"name\":\"ashu\",\"age\":22} #29\n",
        "x={\"got\":2,\"avenger\":9}\n",
        "d.update(x)\n",
        "print(d)\n"
      ],
      "metadata": {
        "colab": {
          "base_uri": "https://localhost:8080/"
        },
        "id": "G75GvwxK0xhS",
        "outputId": "3f82e3c5-6997-45d0-a24f-62113e793a43"
      },
      "execution_count": 16,
      "outputs": [
        {
          "output_type": "stream",
          "name": "stdout",
          "text": [
            "{'name': 'ashu', 'age': 22, 'got': 2, 'avenger': 9}\n"
          ]
        }
      ]
    },
    {
      "cell_type": "code",
      "source": [
        "l=[\"ashu\",\"mohan\",\"shyam\",\"ravi\"]  #30\n",
        "s=set(l)\n",
        "print(s)\n",
        "type(s)"
      ],
      "metadata": {
        "colab": {
          "base_uri": "https://localhost:8080/"
        },
        "id": "uTf-QI4H2R_H",
        "outputId": "5cb6de52-d6b7-4083-82c7-0c5983aa5f73"
      },
      "execution_count": 14,
      "outputs": [
        {
          "output_type": "stream",
          "name": "stdout",
          "text": [
            "{'ravi', 'shyam', 'ashu', 'mohan'}\n"
          ]
        },
        {
          "output_type": "execute_result",
          "data": {
            "text/plain": [
              "set"
            ]
          },
          "metadata": {},
          "execution_count": 14
        }
      ]
    }
  ]
}